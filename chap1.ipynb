{
 "cells": [
  {
   "cell_type": "code",
   "execution_count": 16,
   "metadata": {},
   "outputs": [],
   "source": [
    "users = {\"Angelica\": {\"Blues Traveler\": 3.5, \"Broken Bells\": 2.0, \"Norah Jones\": 4.5, \"Phoenix\": 5.0, \"Slightly Stoopid\": 1.5, \"The Strokes\": 2.5, \"Vampire Weekend\": 2.0},\n",
    "         \"Clara\": {\"Blues Traveler\": 4.75, \"Norah Jones\": 4.5, \"Phoenix\": 5.0, \"The Strokes\": 4.25, \"Weird AI\": 4},\n",
    "         \"Robert\": {\"Blues Traveler\": 4, \"Norah Jones\": 3, \"Phoenix\": 5.0, \"The Strokes\": 2, \"Weird AI\": 1},\n",
    "         \"Bill\":{\"Blues Traveler\": 2.0, \"Broken Bells\": 3.5, \"Deadmau5\": 4.0, \"Phoenix\": 2.0, \"Slightly Stoopid\": 3.5, \"Vampire Weekend\": 3.0},\n",
    "         \"Chan\": {\"Blues Traveler\": 5.0, \"Broken Bells\": 1.0, \"Deadmau5\": 1.0, \"Norah Jones\": 3.0, \"Phoenix\": 5, \"Slightly Stoopid\": 1.0},\n",
    "         \"Dan\": {\"Blues Traveler\": 3.0, \"Broken Bells\": 4.0, \"Deadmau5\": 4.5, \"Phoenix\": 3.0, \"Slightly Stoopid\": 4.5, \"The Strokes\": 4.0, \"Vampire Weekend\": 2.0},\n",
    "         \"Hailey\": {\"Broken Bells\": 4.0, \"Deadmau5\": 1.0, \"Norah Jones\": 4.0, \"The Strokes\": 4.0, \"Vampire Weekend\": 1.0},\n",
    "         \"Jordyn\":  {\"Broken Bells\": 4.5, \"Deadmau5\": 4.0, \"Norah Jones\": 5.0, \"Phoenix\": 5.0, \"Slightly Stoopid\": 4.5, \"The Strokes\": 4.0, \"Vampire Weekend\": 4.0},\n",
    "         \"Sam\": {\"Blues Traveler\": 5.0, \"Broken Bells\": 2.0, \"Norah Jones\": 3.0, \"Phoenix\": 5.0, \"Slightly Stoopid\": 4.0, \"The Strokes\": 5.0},\n",
    "         \"Veronica\": {\"Blues Traveler\": 3.0, \"Norah Jones\": 5.0, \"Phoenix\": 4.0, \"Slightly Stoopid\": 2.5, \"The Strokes\": 3.0}\n",
    "        }"
   ]
  },
  {
   "attachments": {},
   "cell_type": "markdown",
   "metadata": {},
   "source": [
    "应该使用哪种相似度？\n",
    "1.如果数据存在“分数膨胀”问题，就使用皮尔逊相关系数。pearson(user1, user2)\n",
    "2.如果数据比较“密集”，变量之间基本都存在公有值，且这些距离数据是非常重要的，那就使用欧几里得或曼哈顿距离。manhatton \n",
    "3.如果数据是稀疏的，则使用余弦相似度。cos(user1, user2)"
   ]
  },
  {
   "cell_type": "code",
   "execution_count": 17,
   "metadata": {},
   "outputs": [
    {
     "name": "stdout",
     "output_type": "stream",
     "text": [
      "9.0\n"
     ]
    }
   ],
   "source": [
    "def manhatton(user1, user2):\n",
    "    distance = 0\n",
    "    for key in user1:\n",
    "        if key in user2:\n",
    "            distance += abs(user1[key] - user2[key])\n",
    "    return distance\n",
    "\n",
    "print(manhatton(users[\"Angelica\"], users[\"Bill\"]))"
   ]
  },
  {
   "cell_type": "code",
   "execution_count": 18,
   "metadata": {},
   "outputs": [
    {
     "name": "stdout",
     "output_type": "stream",
     "text": [
      "(0.75, 'Clara')\n"
     ]
    }
   ],
   "source": [
    "def computeNearestNeighbor(username, users):\n",
    "    distances = []\n",
    "    for user in users:\n",
    "        if user != username:\n",
    "            distance = manhatton(users[username], users[user])\n",
    "            distances.append((distance, user))\n",
    "        \n",
    "    distances.sort()\n",
    "    return distances\n",
    "\n",
    "computeNearestNeighbor(\"Hailey\", users)\n",
    "print(computeNearestNeighbor(\"Hailey\", users)[0])"
   ]
  },
  {
   "cell_type": "code",
   "execution_count": 19,
   "metadata": {},
   "outputs": [
    {
     "data": {
      "text/plain": [
       "[('Phoenix', 5.0), ('Blues Traveler', 4.75), ('Weird AI', 4), ('Weird AI', 4)]"
      ]
     },
     "execution_count": 19,
     "metadata": {},
     "output_type": "execute_result"
    }
   ],
   "source": [
    "def recommend(username, users):\n",
    "    nearest = computeNearestNeighbor(username, users)[0][1]\n",
    "    # print(nearest)\n",
    "    recommendations = []\n",
    "    neighborRatings = users[nearest]\n",
    "    userRatings = users[username]\n",
    "\n",
    "    for artist in neighborRatings:\n",
    "        if not artist in userRatings:\n",
    "            recommendations.append((artist, neighborRatings[artist]))\n",
    "    recommendations.append((artist, neighborRatings[artist]))\n",
    "    # print(recommendations)\n",
    "    return sorted(recommendations, key=lambda artistTuple: artistTuple[1], reverse=True)\n",
    "\n",
    "recommend(\"Hailey\", users)"
   ]
  },
  {
   "cell_type": "code",
   "execution_count": 20,
   "metadata": {},
   "outputs": [],
   "source": [
    "def minkowski(user1, user2, r):\n",
    "    distance = 0\n",
    "    for key in user1:\n",
    "        if key in user2:\n",
    "            distance += pow(abs(user1[key] - user2[key]), r)\n",
    "    return pow(distance, 1/r)\n"
   ]
  },
  {
   "cell_type": "code",
   "execution_count": 21,
   "metadata": {},
   "outputs": [
    {
     "data": {
      "text/plain": [
       "-0.9040534990682699"
      ]
     },
     "execution_count": 21,
     "metadata": {},
     "output_type": "execute_result"
    }
   ],
   "source": [
    "from math import sqrt\n",
    "\n",
    "def pearson(user1, user2):\n",
    "    sum_xy = 0\n",
    "    sum_x = 0\n",
    "    sum_y = 0\n",
    "    sum_x2 = 0\n",
    "    sum_y2 = 0\n",
    "    n = 0\n",
    "    for key in user1:\n",
    "        if key in user2:\n",
    "            x = user1[key]\n",
    "            y = user2[key]\n",
    "            sum_xy += x * y\n",
    "            sum_x += x\n",
    "            sum_y += y\n",
    "            sum_x2 += pow(x, 2)\n",
    "            sum_y2 += pow(y, 2)\n",
    "            n += 1\n",
    "\n",
    "    denominator = sqrt(sum_x2 - pow(sum_x, 2) / n) * sqrt(sum_y2 - pow(sum_y, 2) / n)\n",
    "    if denominator == 0:\n",
    "        return 0\n",
    "    else:\n",
    "        return (sum_xy - (sum_x * sum_y)/n) / denominator\n",
    "    \n",
    "pearson(users['Angelica'], users['Bill'])"
   ]
  },
  {
   "cell_type": "code",
   "execution_count": 25,
   "metadata": {},
   "outputs": [
    {
     "data": {
      "text/plain": [
       "0.9351534585705217"
      ]
     },
     "execution_count": 25,
     "metadata": {},
     "output_type": "execute_result"
    }
   ],
   "source": [
    "# 余弦相似度的范围从1到-1，1表示完全匹配，-1表示完全相悖。所以0.935表示匹配度很高。\n",
    "\n",
    "def cos(user1, user2):\n",
    "    sum_x2 = 0\n",
    "    sum_y2 = 0\n",
    "    sum = 0\n",
    "    for key in user1:\n",
    "        if key in user2:\n",
    "            x = user1[key]\n",
    "            y = user2[key]\n",
    "            sum += x * y\n",
    "            sum_x2 += pow(x, 2)\n",
    "            sum_y2 += pow(y, 2)\n",
    "    \n",
    "    return sum / (sqrt(sum_x2) * sqrt(sum_y2))\n",
    "\n",
    "cos(users[\"Clara\"], users[\"Robert\"])"
   ]
  },
  {
   "cell_type": "code",
   "execution_count": 27,
   "metadata": {},
   "outputs": [
    {
     "data": {
      "text/plain": [
       "[('Blues Traveler', 5.0)]"
      ]
     },
     "execution_count": 27,
     "metadata": {},
     "output_type": "execute_result"
    }
   ],
   "source": [
    "# K nearest neighbors recommendation algorithm\n",
    "import codecs\n",
    "from math import sqrt\n",
    "\n",
    "class recommender:\n",
    "    def __init__(self, data, k=1, metric='pearson', n=5):\n",
    "        \"\"\" 初始化推荐模块\n",
    "        data   训练数据\n",
    "        k      K邻近算法中的值\n",
    "        metric 使用何种距离计算方式\n",
    "        n      推荐结果的数量\n",
    "        \"\"\"\n",
    "        self.k = k\n",
    "        self.n = n\n",
    "        self.username2id = {}\n",
    "        self.userid2name = {}\n",
    "        self.productid2name = {}\n",
    "        # 将距离计算方式保存下来\n",
    "        self.metric = metric\n",
    "        if self.metric == 'pearson':\n",
    "            self.fn = self.pearson\n",
    "        #\n",
    "        # 如果data是一个字典类型，则保存下来，否则忽略\n",
    "        #\n",
    "        if type(data).__name__ == 'dict':\n",
    "            self.data = data\n",
    "\n",
    "    def convertProductID2name(self, id):\n",
    "        \"\"\"通过产品ID获取名称\"\"\"\n",
    "        if id in self.productid2name:\n",
    "            return self.productid2name[id]\n",
    "        else:\n",
    "            return id\n",
    "\n",
    "    def userRatings(self, id, n):\n",
    "        print(self.userid2name)\n",
    "        print (\"Ratings for \" + self.userid2name[id])\n",
    "        ratings = self.data[id]\n",
    "        print(len(ratings))\n",
    "        ratings = list(ratings.items())\n",
    "        ratings = [(self.convertProductID2name(k), v)\n",
    "                   for (k, v) in ratings]\n",
    "        # 排序并返回结果\n",
    "        ratings.sort(key=lambda artistTuple: artistTuple[1],\n",
    "                     reverse = True)\n",
    "        ratings = ratings[:n]\n",
    "        for rating in ratings:\n",
    "            print(\"%s\\t%i\" % (rating[0], rating[1]))\n",
    "\n",
    "    def pearson(self, rating1, rating2):\n",
    "        sum_xy = 0\n",
    "        sum_x = 0\n",
    "        sum_y = 0\n",
    "        sum_x2 = 0\n",
    "        sum_y2 = 0\n",
    "        n = 0\n",
    "        for key in rating1:\n",
    "            if key in rating2:\n",
    "                n += 1\n",
    "                x = rating1[key]\n",
    "                y = rating2[key]\n",
    "                sum_xy += x * y\n",
    "                sum_x += x\n",
    "                sum_y += y\n",
    "                sum_x2 += pow(x, 2)\n",
    "                sum_y2 += pow(y, 2)\n",
    "        if n == 0:\n",
    "            return 0\n",
    "        # 计算分母\n",
    "        denominator = (sqrt(sum_x2 - pow(sum_x, 2) / n)\n",
    "                       * sqrt(sum_y2 - pow(sum_y, 2) / n))\n",
    "        if denominator == 0:\n",
    "            return 0\n",
    "        else:\n",
    "            return (sum_xy - (sum_x * sum_y) / n) / denominator\n",
    "\n",
    "    def computeNearestNeighbor(self, username):\n",
    "        \"\"\"获取邻近用户\"\"\"\n",
    "        distances = []\n",
    "        for instance in self.data:\n",
    "            if instance != username:\n",
    "                distance = self.fn(self.data[username],\n",
    "                                   self.data[instance])\n",
    "                distances.append((instance, distance))\n",
    "        # 按距离排序，距离近的排在前面\n",
    "        distances.sort(key=lambda artistTuple: artistTuple[1],\n",
    "                       reverse=True)\n",
    "        return distances\n",
    "\n",
    "    def recommend(self, user):\n",
    "       \"\"\"返回推荐列表\"\"\"\n",
    "       recommendations = {}\n",
    "       # 首先，获取邻近用户\n",
    "       nearest = self.computeNearestNeighbor(user)\n",
    "       #\n",
    "       # 获取用户评价过的商品\n",
    "       #\n",
    "       userRatings = self.data[user]\n",
    "       #\n",
    "       # 计算总距离\n",
    "       totalDistance = 0.0\n",
    "       for i in range(self.k):\n",
    "          totalDistance += nearest[i][1]\n",
    "       # 汇总K邻近用户的评分\n",
    "       for i in range(self.k):\n",
    "          # 计算饼图的每个分片\n",
    "          weight = nearest[i][1] / totalDistance\n",
    "          # 获取邻近用户名称\n",
    "          name = nearest[i][0]\n",
    "          # 获取邻近用户评分\n",
    "          neighborRatings = self.data[name]\n",
    "          # 获得没有评价过的商品\n",
    "          for artist in neighborRatings:\n",
    "             if not artist in userRatings:\n",
    "                if artist not in recommendations:\n",
    "                   recommendations[artist] = (neighborRatings[artist]\n",
    "                                              * weight)\n",
    "                else:\n",
    "                   recommendations[artist] = (recommendations[artist]\n",
    "                                              + neighborRatings[artist]\n",
    "                                              * weight)\n",
    "       # 开始推荐\n",
    "       recommendations = list(recommendations.items())\n",
    "       recommendations = [(self.convertProductID2name(k), v)\n",
    "                          for (k, v) in recommendations]\n",
    "       # 排序并返回\n",
    "       recommendations.sort(key=lambda artistTuple: artistTuple[1],\n",
    "                            reverse = True)\n",
    "       # 返回前n个结果\n",
    "       return recommendations[:self.n]\n",
    "    \n",
    "r = recommender(users)\n",
    "r.recommend('Jordyn')"
   ]
  }
 ],
 "metadata": {
  "kernelspec": {
   "display_name": "cs",
   "language": "python",
   "name": "python3"
  },
  "language_info": {
   "codemirror_mode": {
    "name": "ipython",
    "version": 3
   },
   "file_extension": ".py",
   "mimetype": "text/x-python",
   "name": "python",
   "nbconvert_exporter": "python",
   "pygments_lexer": "ipython3",
   "version": "3.7.16"
  },
  "orig_nbformat": 4
 },
 "nbformat": 4,
 "nbformat_minor": 2
}
