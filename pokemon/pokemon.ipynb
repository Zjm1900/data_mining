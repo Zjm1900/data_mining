{
 "cells": [
  {
   "cell_type": "code",
   "execution_count": null,
   "metadata": {},
   "outputs": [],
   "source": [
    "# Jimmy 5.29\n",
    "\"\"\"\n",
    "Work FLow\n",
    "1. Decriptive Statistics\n",
    "2. Data Processing & Feature Engineering\n",
    "3. Data Analysis & Visualization\n",
    "\"\"\"\n",
    "\n",
    "import os \n",
    "\n"
   ]
  }
 ],
 "metadata": {
  "language_info": {
   "name": "python"
  },
  "orig_nbformat": 4
 },
 "nbformat": 4,
 "nbformat_minor": 2
}
